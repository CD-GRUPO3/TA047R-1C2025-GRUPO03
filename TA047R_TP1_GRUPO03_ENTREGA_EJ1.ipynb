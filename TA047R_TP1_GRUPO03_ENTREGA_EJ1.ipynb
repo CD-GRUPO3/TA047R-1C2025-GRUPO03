{
  "nbformat": 4,
  "nbformat_minor": 0,
  "metadata": {
    "colab": {
      "provenance": [],
      "include_colab_link": true
    },
    "kernelspec": {
      "name": "python3",
      "display_name": "Python 3"
    },
    "language_info": {
      "name": "python"
    }
  },
  "cells": [
    {
      "cell_type": "markdown",
      "metadata": {
        "id": "view-in-github",
        "colab_type": "text"
      },
      "source": [
        "<a href=\"https://colab.research.google.com/github/CD-GRUPO3/TA047R-1C2025-GRUPO03/blob/main/TA047R_TP1_GRUPO03_ENTREGA_EJ1.ipynb\" target=\"_parent\"><img src=\"https://colab.research.google.com/assets/colab-badge.svg\" alt=\"Open In Colab\"/></a>"
      ]
    },
    {
      "cell_type": "code",
      "execution_count": 14,
      "metadata": {
        "id": "bBw6xNhqR-Ac"
      },
      "outputs": [],
      "source": [
        "import matplotlib.pyplot as plt\n",
        "import numpy as np\n",
        "import seaborn as sns\n",
        "import pandas as pd\n",
        "\n",
        "import pyarrow.parquet as pq\n"
      ]
    },
    {
      "cell_type": "code",
      "source": [
        "!gdown 1MukhnrymZ35FVsahXUs5I0cAeGJMoXgG\n",
        "!gdown 1hEhbxXEC7Dc4iG0fKk2k1n8KM6emWxSg\n",
        "!gdown 1iju9XQghLYI4-XcDt1TVDE1O9ZwRyFVg"
      ],
      "metadata": {
        "colab": {
          "base_uri": "https://localhost:8080/"
        },
        "id": "AjYaEp3kl8ra",
        "outputId": "f01960b2-8f83-4cd1-f31e-7ab222a0551c"
      },
      "execution_count": 17,
      "outputs": [
        {
          "output_type": "stream",
          "name": "stdout",
          "text": [
            "Downloading...\n",
            "From: https://drive.google.com/uc?id=1MukhnrymZ35FVsahXUs5I0cAeGJMoXgG\n",
            "To: /content/yellow_tripdata_2024-08.parquet\n",
            "100% 51.1M/51.1M [00:00<00:00, 83.3MB/s]\n",
            "Downloading...\n",
            "From: https://drive.google.com/uc?id=1hEhbxXEC7Dc4iG0fKk2k1n8KM6emWxSg\n",
            "To: /content/yellow_tripdata_2024-09.parquet\n",
            "100% 61.2M/61.2M [00:00<00:00, 103MB/s]\n",
            "Downloading...\n",
            "From: https://drive.google.com/uc?id=1iju9XQghLYI4-XcDt1TVDE1O9ZwRyFVg\n",
            "To: /content/yellow_tripdata_2024-07.parquet\n",
            "100% 52.3M/52.3M [00:01<00:00, 44.0MB/s]\n"
          ]
        }
      ]
    },
    {
      "cell_type": "code",
      "source": [
        "trips1 = pq.read_table('/content/yellow_tripdata_2024-07.parquet')\n",
        "data1 = trips1.to_pandas()\n",
        "\n",
        "trips2 = pq.read_table('/content/yellow_tripdata_2024-08.parquet')\n",
        "data2 = trips2.to_pandas()\n",
        "\n",
        "trips3 = pq.read_table('/content/yellow_tripdata_2024-09.parquet')\n",
        "data3 = trips3.to_pandas()\n",
        "\n",
        "\n",
        "#Unimos los datos de cada uno de los 3 meses\n",
        "data= pd.concat([data1,data2,data3],axis=0, ignore_index=True)\n",
        "\n",
        "\n",
        "\n",
        "\n",
        "\n"
      ],
      "metadata": {
        "id": "hs3X7Gm_l51u"
      },
      "execution_count": 20,
      "outputs": []
    },
    {
      "cell_type": "code",
      "source": [
        "#VendorID                 Cualitativa    numerica   nominal\n",
        "#tpep_pickup_datetime     Cuantitativas  discreta\n",
        "#tpep_dropoff_datetime    Cuantitativas  discreta\n",
        "#passenger_count          Cualitativa    numerica   nominal\n",
        "#trip_distance            Cualitativa    numerica   nominal\n",
        "#RatecodeID               Cualitativa    numerica   ordinal\n",
        "#store_and_fwd_flag       Cualitativa    texto      nominal\n",
        "#PULocationID             Cualitativa    numerica   nominal\n",
        "#DOLocationID             Cualitativa    numerica   nominal\n",
        "#payment_type             Cualitativa    numerica   nominal\n",
        "#fare_amount              Cuantitativa   discreta    (???!!!)\n",
        "#extra                    Cuantitativa   discreta    (???!!!)\n",
        "#mta_tax                  Cuantitativa   discreta    (?)\n",
        "#tip_amount               Cuantitativa   discreta    (???!!!)\n",
        "#tolls_amount             Cuantitativa   discreta    (???!!!)\n",
        "#improvement_surcharge    Cuantitativa   discreta    (?)\n",
        "#total_amount             Cuantitativa   discreta    (???!!!)\n",
        "#congestion_surcharge     Cuantitativa   discreta    (?)\n",
        "#Airport_fee              Cuantitativa   discreta    (?)"
      ],
      "metadata": {
        "id": "XCBE1wCGtPfk"
      },
      "execution_count": 10,
      "outputs": []
    }
  ]
}