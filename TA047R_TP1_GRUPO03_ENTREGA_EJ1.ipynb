{
  "nbformat": 4,
  "nbformat_minor": 0,
  "metadata": {
    "colab": {
      "provenance": [],
      "include_colab_link": true
    },
    "kernelspec": {
      "name": "python3",
      "display_name": "Python 3"
    },
    "language_info": {
      "name": "python"
    }
  },
  "cells": [
    {
      "cell_type": "markdown",
      "metadata": {
        "id": "view-in-github",
        "colab_type": "text"
      },
      "source": [
        "<a href=\"https://colab.research.google.com/github/CD-GRUPO3/TA047R-1C2025-GRUPO03/blob/main/TA047R_TP1_GRUPO03_ENTREGA_EJ1.ipynb\" target=\"_parent\"><img src=\"https://colab.research.google.com/assets/colab-badge.svg\" alt=\"Open In Colab\"/></a>"
      ]
    },
    {
      "cell_type": "markdown",
      "source": [
        "### Grupo 3 - Ejercicio 1: *Análisis exploratorio de datos*\n",
        "**Objetivo:** realizar un análisis completo del conjunto de datos, aplicar técnicas de exploración y de preprocesamiento para poder responder algunas preguntas que se planteen sobre los datos.\n",
        "\n",
        "**Conjunto de datos:** [uso de Taxis Yellow Cab en USA](https://www.nyc.gov/site/tlc/about/tlc-trip-record-data.page), particularmente los meses **Julio**, **Agosto** y **Septiembre**.\n",
        "\n",
        "**Integrantes:**\n",
        "- ARIAS, Rafaela Pilar. 112272. rparias@fi.uba.ar.\n",
        "- BARCALA ROCA, Ramiro. 112478. rbarcala@fi.uba.ar.\n",
        "- LEMA, Mora. 111831. molema@fi.uba.ar.\n",
        "- IENCO, Lara Eliana. 111921. lienco@fi.uba.ar.\n",
        "\n",
        "___\n",
        "\n",
        "####Bibliografía:\n",
        "Julca, J. E. (2025, febrero 22). Tipos de variables estadísticas: Cuantitativas y Cualitativas. Escuela de Investigación. Recuperado de: [Link](https://escueladeinvestigacion.com/2025/02/22/tipos-de-variables-estadisticas-cuantitativas-y-cualitativas/).\n",
        "\n",
        "Sin Autor, (2022, junio 7). ¿Qué es una variable discreta? (ejemplos). Probabilidad y Estadística. [Link](https://www.probabilidadyestadistica.net/variable-discreta/).\n"
      ],
      "metadata": {
        "id": "TNDqp9IUsNjm"
      }
    },
    {
      "cell_type": "markdown",
      "source": [
        "#####Inicialiación del entorno"
      ],
      "metadata": {
        "id": "yAuZlQo9uEJW"
      }
    },
    {
      "cell_type": "code",
      "execution_count": 5,
      "metadata": {
        "id": "bBw6xNhqR-Ac"
      },
      "outputs": [],
      "source": [
        "#Importar las bibliotecas\n",
        "import matplotlib.pyplot as plt   #Generación de gráficos\n",
        "import numpy as np                #Operaciones matemáticas y estadísticas\n",
        "import seaborn as sns             #Generación de gráficos\n",
        "import pandas as pd               #Manipulación y análisis de datos\n",
        "import pyarrow.parquet as pq      #Trabajar con archivos .parquet\n",
        "\n",
        "#Configurar Pandas para que no use notación científica (CUALQUIER COSA ELIMINAR!!)\n",
        "pd.set_option('display.float_format', '{:.6f}'.format)\n"
      ]
    },
    {
      "cell_type": "code",
      "source": [
        "#Cargar los datos al Notebook\n",
        "!gdown 1iju9XQghLYI4-XcDt1TVDE1O9ZwRyFVg\n",
        "!gdown 1MukhnrymZ35FVsahXUs5I0cAeGJMoXgG\n",
        "!gdown 1hEhbxXEC7Dc4iG0fKk2k1n8KM6emWxSg"
      ],
      "metadata": {
        "colab": {
          "base_uri": "https://localhost:8080/"
        },
        "id": "AjYaEp3kl8ra",
        "outputId": "caac8bae-b43f-4ea8-935a-1a468e50f1ce"
      },
      "execution_count": 2,
      "outputs": [
        {
          "output_type": "stream",
          "name": "stdout",
          "text": [
            "Downloading...\n",
            "From: https://drive.google.com/uc?id=1iju9XQghLYI4-XcDt1TVDE1O9ZwRyFVg\n",
            "To: /content/yellow_tripdata_2024-07.parquet\n",
            "100% 52.3M/52.3M [00:01<00:00, 46.9MB/s]\n",
            "Downloading...\n",
            "From: https://drive.google.com/uc?id=1MukhnrymZ35FVsahXUs5I0cAeGJMoXgG\n",
            "To: /content/yellow_tripdata_2024-08.parquet\n",
            "100% 51.1M/51.1M [00:00<00:00, 71.1MB/s]\n",
            "Downloading...\n",
            "From: https://drive.google.com/uc?id=1hEhbxXEC7Dc4iG0fKk2k1n8KM6emWxSg\n",
            "To: /content/yellow_tripdata_2024-09.parquet\n",
            "100% 61.2M/61.2M [00:01<00:00, 51.1MB/s]\n"
          ]
        }
      ]
    },
    {
      "cell_type": "code",
      "source": [
        "#Obtener cada DataFrame para utilizar Pandas\n",
        "trips1 = pq.read_table('/content/yellow_tripdata_2024-07.parquet')\n",
        "dataJulio = trips1.to_pandas()\n",
        "\n",
        "trips2 = pq.read_table('/content/yellow_tripdata_2024-08.parquet')\n",
        "dataAgosto = trips2.to_pandas()\n",
        "\n",
        "trips3 = pq.read_table('/content/yellow_tripdata_2024-09.parquet')\n",
        "dataSeptiembre = trips3.to_pandas()\n",
        "\n",
        "\n",
        "#Unir los tres Dataframes (uno por mes)\n",
        "data = pd.concat([dataJulio,dataAgosto,dataSeptiembre],axis=0, ignore_index=True)"
      ],
      "metadata": {
        "id": "hs3X7Gm_l51u"
      },
      "execution_count": 3,
      "outputs": []
    },
    {
      "cell_type": "markdown",
      "source": [
        "#####Análisis de las variables"
      ],
      "metadata": {
        "id": "sfKwxXbryE91"
      }
    },
    {
      "cell_type": "markdown",
      "source": [
        "**Cuantitativas**\n",
        "- **tpep_pickup_datetime:** La fecha y hora en que el taxímetro fue activado. **Tipo:** <u>cuantitativa continua</u>.\n",
        "- **tpep_dropoff_datetime:** La fecha y hora en el que el taxímetro fue desactivado. **Tipo:** <u>cuantitativa continua</u>.\n",
        "- **passenger_count:** El número de pasajeros en el vehículo, es un valor ingresado por el conductor. **Tipo:** <u>cuantitativa numérica nominal</u>.\n",
        "- **trip_distance:** La distancia del viaje transcurrida en millas reportada por el taxímetro. **Tipo:** <u>cuantitativa numérica nominal</u>.\n",
        "\n",
        "**DUDAS**\n",
        "- **fare_amount:** La tarifa calculada por el taxímetro basada en el tiempo y la distancia. **Tipo:** <u>cuantitativa discreta</u>.\n",
        "- **extra:** Extras y recargos varios. Actualmente, esto solo incluye los recargos de USD 0.50 y USD 1 por hora punta y durante la noche. **Tipo:** <u>cuantitativa discreta</u>.\n",
        "- **mta_tax:** Impuesto MTA de USD 0.50 que se activa automáticamente según la tarifa del taxímetro en uso. **Tipo:** <u>cuantitativa discreta</u>.\n",
        "- **tip_amount:** Monto de la propina. Este campo se completa automáticamente para las propinas pagadas con tarjeta de crédito. Las propinas en efectivo no están incluidas. **Tipo:** <u>cuantitativa discreta</u>.\n",
        "- **tolls_amount:** Monto total de todos los peajes pagados durante el viaje. **Tipo:** <u>cuantitativa discreta</u>.\n",
        "- **improvement_surcharge:** Recarga de mejora de USD 0.30 aplicado a los viajes al momento de iniciar el viaje (flag drop). **Tipo:** <u>cuantitativa discreta</u>.\n",
        "- **total_amount:** El monto total cobrado a los pasajeros. No incluye las propinas en efectivo. **Tipo:** <u>cuantitativa discreta</u>.\n",
        "- **congestion_surcharge:** Monto total recaudado en el viaje por el recargo por congestión de NYS (Estado de Nueva York). **Tipo:** <u>cuantitativa discreta</u>.\n",
        "- **Airport_fee:** USD 1.25 solo por la recogida en los aeropuertos de LaGuardia y John F. Kennedy. **Tipo:** <u>cuantitativa discreta</u>.\n",
        "\n",
        "---\n",
        "\n",
        "**Cualitativas**\n",
        "- **VendorID:** Un código que indica el proveedor de TPEP (Taxi and Limousine Commission's Taxi Passenger Enhancement Program) que proporcionó el registro. *1 = Creative Mobile Technologies, LLC; 2 = VeriFone*. **Tipo:** <u>cualitativa numérica nominal</u>.\n",
        "- **RatecodeID:** El código final de tarifa en vigor al final del viaje. *1 = Tarifa estándar; 2 = JFK; 3 = Newark; 4 = Nassau o Westchester; 5 = Tarifa negociada; 6 = Viaje en grupo*. **Tipo:** <u>cualitativa numérica ordinal</u>.\n",
        "- **store_and_fwd_flag:** Un indicador que señala si el registro del viaje fue guardado en la memoria del vehículo antes de ser enviado al proveedor, también conocido como 'almacenar y reenviar', porque el vehículo no tenía conexión al servidor. *Y = viaje almacenado y reenviado; N = no es un viaje almacenado y reenviado*. **Tipo:** <u>cualitativa texto nominal</u>.\n",
        "- **PULocationID:** Zona de taxi de la TLC (Comisión de Taxis y Limusinas) en la que se activó el taxímetro. **Tipo:** <u>cualitativa numérica nominal</u>.\n",
        "- **DOLocationID:** Zona de taxi de la TLC en la que se desactivó el taxímetro. **Tipo:** <u>cualitativa numérica nominal</u>.\n",
        "- **payment_type:** Un código numérico que indica cómo el pasajero pagó el viaje. *1 = Tarjeta de crédito; 2 = Efectivo; 3 = Sin cargo; 4 = Disputa; 5 = Desconocido; 6 = Viaje *. **Tipo:** <u>cualitativa numérica nominal</u>.\n",
        "\n",
        "\n",
        "\n",
        "\n"
      ],
      "metadata": {
        "id": "vUvmJEbkzSzu"
      }
    },
    {
      "cell_type": "code",
      "source": [
        "lista_cuantitativas = ['tpep_pickup_datetime', 'tpep_dropoff_datetime', 'passenger_count', 'trip_distance', 'fare_amount', 'extra', 'mta_tax', 'tip_amount', 'tolls_amount', 'improvement_surcharge', 'total_amount', 'congestion_surcharge', 'Airport_fee']\n",
        "\n",
        "#Diccionario para almacenar las medidas estadísticas de cada columna cuantitativa\n",
        "dic_estadisticas_cuantitativo = {}  #FORMATO: {'nombre columna': Serie, 'nombre columna 2': Serie, ...}\n",
        "\n",
        "#Obtener las medidas estadísticas de cada columna cuantitativa y guardarlas en el diccionario\n",
        "for columna in lista_cuantitativas:\n",
        "  moda = data[columna].mode()[0]\n",
        "  medidas_estadisticas = data[columna].describe()  #Excluye los valores NaN, es una Serie\n",
        "  medidas_estadisticas['moda'] = moda\n",
        "  dic_estadisticas_cuantitativo[columna] = medidas_estadisticas\n",
        "  print(medidas_estadisticas)\n",
        "\n",
        "  print('\\n')\n",
        "\n",
        "  #PREGUNTAR: por las que tienen NaN\n",
        "\n",
        "\n",
        "\n"
      ],
      "metadata": {
        "id": "60qnFJ8SJ2VH",
        "outputId": "d52a0de3-4761-4fa4-a90c-46961b370c4c",
        "colab": {
          "base_uri": "https://localhost:8080/"
        },
        "collapsed": true
      },
      "execution_count": 27,
      "outputs": [
        {
          "output_type": "stream",
          "name": "stdout",
          "text": [
            "count                       9689116\n",
            "mean     2024-08-18 09:55:55.561226\n",
            "min             2008-12-31 23:03:46\n",
            "25%      2024-07-25 13:58:48.750000\n",
            "50%             2024-08-18 21:18:19\n",
            "75%             2024-09-11 19:59:00\n",
            "max             2024-10-01 21:24:53\n",
            "moda            2024-07-17 22:04:00\n",
            "Name: tpep_pickup_datetime, dtype: object\n",
            "\n",
            "\n",
            "count                       9689116\n",
            "mean     2024-08-18 10:13:43.063171\n",
            "min             2009-01-01 00:13:25\n",
            "25%             2024-07-25 14:18:55\n",
            "50%             2024-08-18 21:34:52\n",
            "75%             2024-09-11 20:14:00\n",
            "max             2024-10-02 17:28:37\n",
            "moda            2024-07-29 00:00:00\n",
            "Name: tpep_dropoff_datetime, dtype: object\n",
            "\n",
            "\n",
            "count   8667729.000000\n",
            "mean          1.337451\n",
            "std           0.811968\n",
            "min           0.000000\n",
            "25%           1.000000\n",
            "50%           1.000000\n",
            "75%           1.000000\n",
            "max           9.000000\n",
            "moda          1.000000\n",
            "Name: passenger_count, dtype: float64\n",
            "\n",
            "\n",
            "count   9689116.000000\n",
            "mean          5.296568\n",
            "std         433.935453\n",
            "min           0.000000\n",
            "25%           1.030000\n",
            "50%           1.800000\n",
            "75%           3.540000\n",
            "max      330397.590000\n",
            "moda          0.000000\n",
            "Name: trip_distance, dtype: float64\n",
            "\n",
            "\n",
            "count   9689116.000000\n",
            "mean         19.767655\n",
            "std          20.473392\n",
            "min       -2261.200000\n",
            "25%           9.300000\n",
            "50%          14.200000\n",
            "75%          23.150000\n",
            "max        2261.200000\n",
            "moda          8.600000\n",
            "Name: fare_amount, dtype: float64\n",
            "\n",
            "\n",
            "count   9689116.000000\n",
            "mean          1.371863\n",
            "std           1.826801\n",
            "min          -7.500000\n",
            "25%           0.000000\n",
            "50%           1.000000\n",
            "75%           2.500000\n",
            "max          16.190000\n",
            "moda          0.000000\n",
            "Name: extra, dtype: float64\n",
            "\n",
            "\n",
            "count   9689116.000000\n",
            "mean          0.477493\n",
            "std           0.136970\n",
            "min          -0.500000\n",
            "25%           0.500000\n",
            "50%           0.500000\n",
            "75%           0.500000\n",
            "max          10.500000\n",
            "moda          0.500000\n",
            "Name: mta_tax, dtype: float64\n",
            "\n",
            "\n",
            "count   9689116.000000\n",
            "mean          3.280805\n",
            "std           4.193002\n",
            "min         -93.420000\n",
            "25%           0.000000\n",
            "50%           2.520000\n",
            "75%           4.200000\n",
            "max         523.950000\n",
            "moda          0.000000\n",
            "Name: tip_amount, dtype: float64\n",
            "\n",
            "\n",
            "count   9689116.000000\n",
            "mean          0.593475\n",
            "std           2.306631\n",
            "min        -116.700000\n",
            "25%           0.000000\n",
            "50%           0.000000\n",
            "75%           0.000000\n",
            "max         476.350000\n",
            "moda          0.000000\n",
            "Name: tolls_amount, dtype: float64\n",
            "\n",
            "\n",
            "count   9689116.000000\n",
            "mean          0.955656\n",
            "std           0.274009\n",
            "min          -1.000000\n",
            "25%           1.000000\n",
            "50%           1.000000\n",
            "75%           1.000000\n",
            "max           1.000000\n",
            "moda          1.000000\n",
            "Name: improvement_surcharge, dtype: float64\n",
            "\n",
            "\n",
            "count   9689116.000000\n",
            "mean         28.312897\n",
            "std          25.263186\n",
            "min       -2265.450000\n",
            "25%          15.760000\n",
            "50%          21.000000\n",
            "75%          31.080000\n",
            "max        2265.450000\n",
            "moda         16.800000\n",
            "Name: total_amount, dtype: float64\n",
            "\n",
            "\n",
            "count   8667729.000000\n",
            "mean          2.197805\n",
            "std           0.920417\n",
            "min          -2.500000\n",
            "25%           2.500000\n",
            "50%           2.500000\n",
            "75%           2.500000\n",
            "max           2.500000\n",
            "moda          2.500000\n",
            "Name: congestion_surcharge, dtype: float64\n",
            "\n",
            "\n",
            "count   8667729.000000\n",
            "mean          0.165169\n",
            "std           0.532001\n",
            "min          -1.750000\n",
            "25%           0.000000\n",
            "50%           0.000000\n",
            "75%           0.000000\n",
            "max           1.750000\n",
            "moda          0.000000\n",
            "Name: Airport_fee, dtype: float64\n",
            "\n",
            "\n"
          ]
        }
      ]
    },
    {
      "cell_type": "code",
      "source": [
        "data['mta_tax'].unique()"
      ],
      "metadata": {
        "id": "hdD33hrd72h-",
        "outputId": "fe4aa910-8f41-4470-ef42-071a2be1b679",
        "colab": {
          "base_uri": "https://localhost:8080/"
        }
      },
      "execution_count": 22,
      "outputs": [
        {
          "output_type": "execute_result",
          "data": {
            "text/plain": [
              "array([ 0.5 , -0.5 ,  0.  ,  3.  ,  4.  ,  1.  , 10.5 ,  0.05,  5.75,\n",
              "        2.9 ,  0.8 ,  3.25,  4.1 ])"
            ]
          },
          "metadata": {},
          "execution_count": 22
        }
      ]
    },
    {
      "cell_type": "code",
      "source": [
        "lista_cualitativas = ['VendorID','RatecodeID','store_and_fwd_flag','PULocationID','DOLocationID','payment_type']\n",
        "\n",
        "#Diccionario para almacenar las medidas estadísticas de cada columna cualitativa\n",
        "dic_estadisticas_cualitativo = {}  #FORMATO: {'nombre columna': Serie, 'nombre columna 2': Serie, ...}\n",
        "\n",
        "#Obtener las medidas estadísticas de cada columna cualitativa y guardarlas en el diccionario\n",
        "for columna in lista_cualitativas:\n",
        "  valores_unicos_cualitativos = data[columna].unique()\n",
        "  print(\"La columna \" + columna + \" tiene los valores sin repetir\" , data[columna].unique())\n",
        "  dic_estadisticas_cualitativo[columna] = valores_unicos_cualitativos\n",
        "\n",
        "\n",
        "  print('\\n')\n"
      ],
      "metadata": {
        "id": "ud5JHnX3wGUt",
        "outputId": "7cddea6c-9308-4983-d94a-2a65d81d2a7d",
        "colab": {
          "base_uri": "https://localhost:8080/"
        }
      },
      "execution_count": 23,
      "outputs": [
        {
          "output_type": "stream",
          "name": "stdout",
          "text": [
            "La columna VendorID tiene [1 2 6]\n",
            "\n",
            "\n",
            "La columna RatecodeID tiene [ 1.  2.  5.  4.  3. 99.  6. nan]\n",
            "\n",
            "\n",
            "La columna store_and_fwd_flag tiene ['N' 'Y' None]\n",
            "\n",
            "\n",
            "La columna PULocationID tiene [140 132 237 138 114 246  68 249 100 152 186 162 264 230 107  48 141 229\n",
            " 236  90 262  41  79 234  70 164 158 239 144 142 113 263 148  50 231 161\n",
            " 170 137 163  80 211 116 125 256 265  88 224 261 129  75 166 232 181 168\n",
            "  43   4 233 255 112 238  45 244 226 146 193 124 143 196 235 243  37  87\n",
            "  24 223   9  97  38 151 119  33  93 215   7 217  74 127 220  28  12  10\n",
            " 179 219 157 260 216 209 165  42  82 130  83  14  65 145 188  52 177 135\n",
            "  69 117 247  26  61  72  39  17  19  89  13  40  60 178  54  21 169  94\n",
            "  25 160  35   1 225 205 134  98  51  86  73 197  95  64 258  92 259 123\n",
            " 227  76  77 171  47  11 203  91 167 218 121 213  49 174  53  56  20 248\n",
            "   3  71  32 155  62 108 241 102 139 222 159 202   6 195 154 212 194  85\n",
            " 208 183 198 126 147  66  22  63 131  55  29 210  81 180  67 182 173 254\n",
            " 136  36 101 190  78 207 189 120 191 122 133 149 242 106  16  15 192 200\n",
            " 150 228  18  59  31 201 257 252 250 185  46 175  34 128  57 153 240 111\n",
            "  96  58  27   8  44 115 184 156  23 245 221 251 199 253  30   2 214 206\n",
            " 118 172 109 176 187  99 204  84   5]\n",
            "\n",
            "\n",
            "La columna DOLocationID tiene [ 79 113 145 164 263 170  68 107 246 232 140 244  91 179 168 151 238 230\n",
            " 264  75 249 229 262 231 265 137 129 124  48 211 116   7 257 142  74 148\n",
            " 171 216  37 234 161  95  28 100 243 143 198 224  90  42 158 237  45 114\n",
            " 112 144 162 122 239  87 141  72  16 236  50 233  14 186  13 209  80 225\n",
            " 163  97 256   4 127 218 219 132 228  24 121 255  17  71 260 181 131  39\n",
            " 182 160  54 157 152 261 248  56 166  83  65  33  43  36 125 133  82  92\n",
            "  61 226  41 130 147  15 177 175 119   6  70 189 138 190 202  89  21  18\n",
            " 258  62 134  86 193 128  53  69 192  49  40 210  10 223  25 203 254  60\n",
            "  88 155  47 165 146 156  66 188 205 241  35  93   9  76  78  64 212 252\n",
            " 117  55 174   1  52 220 196 217 215  11 159 195  96 167  46  58 213  19\n",
            " 135 126 227 136  20 173  32  77 149  73 154 123 102 197 235 200 191 247\n",
            " 180 221 139  63 108  81 106  27 242  31 172 169 208  26  38 222 101 185\n",
            " 111 250 251  23 194  12  67  98  94 150  29  22 183   8 178  59 259  34\n",
            "   3  57 153 207 240 201 176  51  85 206 253 245 115  44 187 109  30 120\n",
            "  84 214 118 184   2   5 204  99 110 105]\n",
            "\n",
            "\n",
            "La columna payment_type tiene [1 2 3 4 5 0]\n",
            "\n",
            "\n"
          ]
        }
      ]
    },
    {
      "cell_type": "code",
      "source": [
        "for columna in lista_cualitativas:\n",
        "  print(\"La columna tiene frecuencias\" , data[columna].value_counts(dropna=False))\n",
        "  print('\\n')\n",
        "  print('-'*40)\n",
        "  print('\\n')"
      ],
      "metadata": {
        "id": "jftn0CJVySnm",
        "outputId": "71b34240-4faa-4434-b8a6-fabc541008cf",
        "colab": {
          "base_uri": "https://localhost:8080/"
        }
      },
      "execution_count": 33,
      "outputs": [
        {
          "output_type": "stream",
          "name": "stdout",
          "text": [
            "La columna tiene frecuencias VendorID\n",
            "2    7463904\n",
            "1    2225103\n",
            "6        109\n",
            "Name: count, dtype: int64\n",
            "\n",
            "\n",
            "----------------------------------------\n",
            "\n",
            "\n",
            "La columna tiene frecuencias RatecodeID\n",
            "1.000000     8028335\n",
            "NaN          1021387\n",
            "2.000000      362700\n",
            "99.000000     123978\n",
            "5.000000       88011\n",
            "3.000000       34015\n",
            "4.000000       30673\n",
            "6.000000          17\n",
            "Name: count, dtype: int64\n",
            "\n",
            "\n",
            "----------------------------------------\n",
            "\n",
            "\n",
            "La columna tiene frecuencias store_and_fwd_flag\n",
            "N       8624127\n",
            "None    1021387\n",
            "Y         43602\n",
            "Name: count, dtype: int64\n",
            "\n",
            "\n",
            "----------------------------------------\n",
            "\n",
            "\n",
            "La columna tiene frecuencias PULocationID\n",
            "132    553448\n",
            "161    450424\n",
            "237    414063\n",
            "236    360038\n",
            "162    335798\n",
            "        ...  \n",
            "199         7\n",
            "44          5\n",
            "204         5\n",
            "5           2\n",
            "99          1\n",
            "Name: count, Length: 261, dtype: int64\n",
            "\n",
            "\n",
            "----------------------------------------\n",
            "\n",
            "\n",
            "La columna tiene frecuencias DOLocationID\n",
            "236    374531\n",
            "237    372258\n",
            "161    361373\n",
            "230    320549\n",
            "170    294202\n",
            "        ...  \n",
            "44         51\n",
            "2          21\n",
            "99          6\n",
            "105         2\n",
            "110         1\n",
            "Name: count, Length: 262, dtype: int64\n",
            "\n",
            "\n",
            "----------------------------------------\n",
            "\n",
            "\n",
            "La columna tiene frecuencias payment_type\n",
            "1    7033849\n",
            "2    1349194\n",
            "0    1021387\n",
            "4     209622\n",
            "3      75062\n",
            "5          2\n",
            "Name: count, dtype: int64\n",
            "\n",
            "\n",
            "----------------------------------------\n",
            "\n",
            "\n"
          ]
        }
      ]
    },
    {
      "cell_type": "code",
      "source": [],
      "metadata": {
        "id": "GtMWSV4CyjR9"
      },
      "execution_count": null,
      "outputs": []
    }
  ]
}