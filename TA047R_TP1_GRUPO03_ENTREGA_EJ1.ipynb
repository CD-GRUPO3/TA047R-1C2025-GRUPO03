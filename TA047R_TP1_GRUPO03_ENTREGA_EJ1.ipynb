{
  "nbformat": 4,
  "nbformat_minor": 0,
  "metadata": {
    "colab": {
      "provenance": [],
      "include_colab_link": true
    },
    "kernelspec": {
      "name": "python3",
      "display_name": "Python 3"
    },
    "language_info": {
      "name": "python"
    }
  },
  "cells": [
    {
      "cell_type": "markdown",
      "metadata": {
        "id": "view-in-github",
        "colab_type": "text"
      },
      "source": [
        "<a href=\"https://colab.research.google.com/github/CD-GRUPO3/TA047R-1C2025-GRUPO03/blob/main/TA047R_TP1_GRUPO03_ENTREGA_EJ1.ipynb\" target=\"_parent\"><img src=\"https://colab.research.google.com/assets/colab-badge.svg\" alt=\"Open In Colab\"/></a>"
      ]
    },
    {
      "cell_type": "code",
      "execution_count": 2,
      "metadata": {
        "id": "bBw6xNhqR-Ac"
      },
      "outputs": [],
      "source": [
        "import matplotlib.pyplot as plt\n",
        "import numpy as np\n",
        "import seaborn as sns\n",
        "import pandas as pd\n",
        "\n",
        "import pyarrow.parquet as pq\n"
      ]
    },
    {
      "cell_type": "code",
      "source": [
        "from google.colab import drive\n",
        "drive.mount('/content/drive/')\n",
        "url1='/content/drive/MyDrive/ORGA DE DATOS/TP/datasets/EJ1/yellow_tripdata_2024-07.parquet'\n",
        "url2='/content/drive/MyDrive/ORGA DE DATOS/TP/datasets/EJ1/yellow_tripdata_2024-08.parquet'\n",
        "url3='/content/drive/MyDrive/ORGA DE DATOS/TP/datasets/EJ1/yellow_tripdata_2024-09.parquet'"
      ],
      "metadata": {
        "colab": {
          "base_uri": "https://localhost:8080/"
        },
        "id": "AjYaEp3kl8ra",
        "outputId": "c27d2835-b663-4142-ec4d-8204d9a27f5c"
      },
      "execution_count": 3,
      "outputs": [
        {
          "output_type": "stream",
          "name": "stdout",
          "text": [
            "Drive already mounted at /content/drive/; to attempt to forcibly remount, call drive.mount(\"/content/drive/\", force_remount=True).\n"
          ]
        }
      ]
    },
    {
      "cell_type": "code",
      "source": [
        "trips1 = pq.read_table(url1)\n",
        "data1 = trips1.to_pandas()\n",
        "\n",
        "trips2 = pq.read_table(url2)\n",
        "data2 = trips2.to_pandas()\n",
        "\n",
        "trips3 = pq.read_table(url3)\n",
        "data3 = trips3.to_pandas()\n",
        "\n",
        "\n",
        "#Unimos los datos de cada uno de los 3 meses\n",
        "data= pd.concat([data1,data2,data3],axis=0, ignore_index=True)\n",
        "\n",
        "\n",
        "\n",
        "\n",
        "\n"
      ],
      "metadata": {
        "id": "hs3X7Gm_l51u"
      },
      "execution_count": 9,
      "outputs": []
    },
    {
      "cell_type": "code",
      "source": [
        "#VendorID                 Cualitativa    numerica   nominal\n",
        "#tpep_pickup_datetime     Cuantitativas  discreta\n",
        "#tpep_dropoff_datetime    Cuantitativas  discreta\n",
        "#passenger_count          Cualitativa    numerica   nominal\n",
        "#trip_distance            Cualitativa    numerica   nominal\n",
        "#RatecodeID               Cualitativa    numerica   ordinal\n",
        "#store_and_fwd_flag       Cualitativa    texto      nominal\n",
        "#PULocationID             Cualitativa    numerica   nominal\n",
        "#DOLocationID             Cualitativa    numerica   nominal\n",
        "#payment_type             Cualitativa    numerica   nominal\n",
        "#fare_amount              Cuantitativa   discreta    (???!!!)\n",
        "#extra                    Cuantitativa   discreta    (???!!!)\n",
        "#mta_tax                  Cuantitativa   discreta    (?)\n",
        "#tip_amount               Cuantitativa   discreta    (???!!!)\n",
        "#tolls_amount             Cuantitativa   discreta    (???!!!)\n",
        "#improvement_surcharge    Cuantitativa   discreta    (?)\n",
        "#total_amount             Cuantitativa   discreta    (???!!!)\n",
        "#congestion_surcharge     Cuantitativa   discreta    (?)\n",
        "#Airport_fee              Cuantitativa   discreta    (?)"
      ],
      "metadata": {
        "id": "XCBE1wCGtPfk"
      },
      "execution_count": 10,
      "outputs": []
    }
  ]
}