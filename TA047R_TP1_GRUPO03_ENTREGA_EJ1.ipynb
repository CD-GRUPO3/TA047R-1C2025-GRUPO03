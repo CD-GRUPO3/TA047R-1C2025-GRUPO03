{
  "nbformat": 4,
  "nbformat_minor": 0,
  "metadata": {
    "colab": {
      "provenance": [],
      "include_colab_link": true
    },
    "kernelspec": {
      "name": "python3",
      "display_name": "Python 3"
    },
    "language_info": {
      "name": "python"
    }
  },
  "cells": [
    {
      "cell_type": "markdown",
      "metadata": {
        "id": "view-in-github",
        "colab_type": "text"
      },
      "source": [
        "<a href=\"https://colab.research.google.com/github/CD-GRUPO3/TA047R-1C2025-GRUPO03/blob/main/TA047R_TP1_GRUPO03_ENTREGA_EJ1.ipynb\" target=\"_parent\"><img src=\"https://colab.research.google.com/assets/colab-badge.svg\" alt=\"Open In Colab\"/></a>"
      ]
    },
    {
      "cell_type": "code",
      "execution_count": 2,
      "metadata": {
        "id": "bBw6xNhqR-Ac"
      },
      "outputs": [],
      "source": [
        "import matplotlib.pyplot as plt\n",
        "import numpy as np\n",
        "import seaborn as sns\n",
        "import pandas as pd\n",
        "\n",
        "import pyarrow.parquet as pq\n"
      ]
    },
    {
      "cell_type": "code",
      "source": [
        "!gdown 1MukhnrymZ35FVsahXUs5I0cAeGJMoXgG\n",
        "!gdown 1hEhbxXEC7Dc4iG0fKk2k1n8KM6emWxSg\n",
        "!gdown 1iju9XQghLYI4-XcDt1TVDE1O9ZwRyFVg"
      ],
      "metadata": {
        "colab": {
          "base_uri": "https://localhost:8080/"
        },
        "id": "AjYaEp3kl8ra",
        "outputId": "c65ea3e6-1ad7-483c-aba9-a5ab510aea41"
      },
      "execution_count": 3,
      "outputs": [
        {
          "output_type": "stream",
          "name": "stdout",
          "text": [
            "Downloading...\n",
            "From: https://drive.google.com/uc?id=1MukhnrymZ35FVsahXUs5I0cAeGJMoXgG\n",
            "To: /content/yellow_tripdata_2024-08.parquet\n",
            "100% 51.1M/51.1M [00:00<00:00, 66.0MB/s]\n",
            "Downloading...\n",
            "From: https://drive.google.com/uc?id=1hEhbxXEC7Dc4iG0fKk2k1n8KM6emWxSg\n",
            "To: /content/yellow_tripdata_2024-09.parquet\n",
            "100% 61.2M/61.2M [00:01<00:00, 57.8MB/s]\n",
            "Downloading...\n",
            "From: https://drive.google.com/uc?id=1iju9XQghLYI4-XcDt1TVDE1O9ZwRyFVg\n",
            "To: /content/yellow_tripdata_2024-07.parquet\n",
            "100% 52.3M/52.3M [00:00<00:00, 188MB/s]\n"
          ]
        }
      ]
    },
    {
      "cell_type": "code",
      "source": [
        "trips1 = pq.read_table('/content/yellow_tripdata_2024-07.parquet')\n",
        "data1 = trips1.to_pandas()\n",
        "\n",
        "trips2 = pq.read_table('/content/yellow_tripdata_2024-08.parquet')\n",
        "data2 = trips2.to_pandas()\n",
        "\n",
        "trips3 = pq.read_table('/content/yellow_tripdata_2024-09.parquet')\n",
        "data3 = trips3.to_pandas()\n",
        "\n",
        "\n",
        "#Unimos los datos de cada uno de los 3 meses\n",
        "data= pd.concat([data1,data2,data3],axis=0, ignore_index=True)"
      ],
      "metadata": {
        "id": "hs3X7Gm_l51u"
      },
      "execution_count": 4,
      "outputs": []
    },
    {
      "cell_type": "code",
      "source": [
        "#VendorID                 Cualitativa    numerica   nominal\n",
        "#tpep_pickup_datetime     Cuantitativa   discreta\n",
        "#tpep_dropoff_datetime    Cuantitativa   discreta\n",
        "#passenger_count          Cuantitativa    numerica   nominal\n",
        "#trip_distance            Cuantitativa    numerica   nominal\n",
        "#RatecodeID               Cualitativa    numerica   ordinal\n",
        "#store_and_fwd_flag       Cualitativa    texto      nominal\n",
        "#PULocationID             Cualitativa    numerica   nominal\n",
        "#DOLocationID             Cualitativa    numerica   nominal\n",
        "#payment_type             Cualitativa    numerica   nominal\n",
        "#fare_amount              Cuantitativa   discreta    (???!!!)\n",
        "#extra                    Cuantitativa   discreta    (???!!!)\n",
        "#mta_tax                  Cuantitativa   discreta    (?)\n",
        "#tip_amount               Cuantitativa   discreta    (???!!!)\n",
        "#tolls_amount             Cuantitativa   discreta    (???!!!)\n",
        "#improvement_surcharge    Cuantitativa   discreta    (?)\n",
        "#total_amount             Cuantitativa   discreta    (???!!!)\n",
        "#congestion_surcharge     Cuantitativa   discreta    (?)\n",
        "#Airport_fee              Cuantitativa   discreta    (?)"
      ],
      "metadata": {
        "id": "XCBE1wCGtPfk"
      },
      "execution_count": 21,
      "outputs": []
    },
    {
      "cell_type": "code",
      "source": [
        "lista_cuantitativas = ['passenger_count','trip_distance','fare_amount','extra','mta_tax','tip_amount','tolls_amount','improvement_surcharge','total_amount','congestion_surcharge','Airport_fee'] #tpep_dropoff_datetime   y   tpep_pickup_datetime\n",
        "lista_cualitativas = ['VendorID','RatecodeID','store_and_fwd_flag','PULocationID','DOLocationID','payment_type']\n",
        "\n",
        "for columna in lista_cuantitativas:\n",
        "\n",
        "  print(data[columna].describe())\n",
        "\n",
        "  print('\\n')\n",
        "\n",
        "  '''\n",
        "  promedio = data[columna].mean()   #No tomamos los NaN!!!\n",
        "  print(\"El promedio de \"+ columna+ \" es:\", promedio)\n",
        "\n",
        "\n",
        "  mediana =  data[columna].median() #No tomamos los NaN!!!\n",
        "  print(\"La mediana de \"+ columna+ \" es:\", mediana)\n",
        "\n",
        "  moda = data[columna].mode()[0]\n",
        "  print(\"La moda de \"+ columna+ \" es:\", moda)\n",
        "\n",
        "  '''\n",
        "\n",
        "\n",
        "\n"
      ],
      "metadata": {
        "id": "60qnFJ8SJ2VH",
        "outputId": "3bccb46d-98e0-46a2-a5e7-e6ecf7ede339",
        "colab": {
          "base_uri": "https://localhost:8080/"
        }
      },
      "execution_count": 20,
      "outputs": [
        {
          "output_type": "stream",
          "name": "stdout",
          "text": [
            "count    8.667729e+06\n",
            "mean     1.337451e+00\n",
            "std      8.119679e-01\n",
            "min      0.000000e+00\n",
            "25%      1.000000e+00\n",
            "50%      1.000000e+00\n",
            "75%      1.000000e+00\n",
            "max      9.000000e+00\n",
            "Name: passenger_count, dtype: float64\n",
            "La mediana de passenger_count es: 1.0\n",
            "\n",
            "\n",
            "count    9.689116e+06\n",
            "mean     5.296568e+00\n",
            "std      4.339355e+02\n",
            "min      0.000000e+00\n",
            "25%      1.030000e+00\n",
            "50%      1.800000e+00\n",
            "75%      3.540000e+00\n",
            "max      3.303976e+05\n",
            "Name: trip_distance, dtype: float64\n",
            "La mediana de trip_distance es: 1.8\n",
            "\n",
            "\n",
            "count    9.689116e+06\n",
            "mean     1.976765e+01\n",
            "std      2.047339e+01\n",
            "min     -2.261200e+03\n",
            "25%      9.300000e+00\n",
            "50%      1.420000e+01\n",
            "75%      2.315000e+01\n",
            "max      2.261200e+03\n",
            "Name: fare_amount, dtype: float64\n",
            "La mediana de fare_amount es: 14.2\n",
            "\n",
            "\n",
            "count    9.689116e+06\n",
            "mean     1.371863e+00\n",
            "std      1.826801e+00\n",
            "min     -7.500000e+00\n",
            "25%      0.000000e+00\n",
            "50%      1.000000e+00\n",
            "75%      2.500000e+00\n",
            "max      1.619000e+01\n",
            "Name: extra, dtype: float64\n",
            "La mediana de extra es: 1.0\n",
            "\n",
            "\n",
            "count    9.689116e+06\n",
            "mean     4.774929e-01\n",
            "std      1.369698e-01\n",
            "min     -5.000000e-01\n",
            "25%      5.000000e-01\n",
            "50%      5.000000e-01\n",
            "75%      5.000000e-01\n",
            "max      1.050000e+01\n",
            "Name: mta_tax, dtype: float64\n",
            "La mediana de mta_tax es: 0.5\n",
            "\n",
            "\n",
            "count    9.689116e+06\n",
            "mean     3.280805e+00\n",
            "std      4.193002e+00\n",
            "min     -9.342000e+01\n",
            "25%      0.000000e+00\n",
            "50%      2.520000e+00\n",
            "75%      4.200000e+00\n",
            "max      5.239500e+02\n",
            "Name: tip_amount, dtype: float64\n",
            "La mediana de tip_amount es: 2.52\n",
            "\n",
            "\n",
            "count    9.689116e+06\n",
            "mean     5.934746e-01\n",
            "std      2.306631e+00\n",
            "min     -1.167000e+02\n",
            "25%      0.000000e+00\n",
            "50%      0.000000e+00\n",
            "75%      0.000000e+00\n",
            "max      4.763500e+02\n",
            "Name: tolls_amount, dtype: float64\n",
            "La mediana de tolls_amount es: 0.0\n",
            "\n",
            "\n",
            "count    9.689116e+06\n",
            "mean     9.556556e-01\n",
            "std      2.740092e-01\n",
            "min     -1.000000e+00\n",
            "25%      1.000000e+00\n",
            "50%      1.000000e+00\n",
            "75%      1.000000e+00\n",
            "max      1.000000e+00\n",
            "Name: improvement_surcharge, dtype: float64\n",
            "La mediana de improvement_surcharge es: 1.0\n",
            "\n",
            "\n",
            "count    9.689116e+06\n",
            "mean     2.831290e+01\n",
            "std      2.526319e+01\n",
            "min     -2.265450e+03\n",
            "25%      1.576000e+01\n",
            "50%      2.100000e+01\n",
            "75%      3.108000e+01\n",
            "max      2.265450e+03\n",
            "Name: total_amount, dtype: float64\n",
            "La mediana de total_amount es: 21.0\n",
            "\n",
            "\n",
            "count    8.667729e+06\n",
            "mean     2.197805e+00\n",
            "std      9.204174e-01\n",
            "min     -2.500000e+00\n",
            "25%      2.500000e+00\n",
            "50%      2.500000e+00\n",
            "75%      2.500000e+00\n",
            "max      2.500000e+00\n",
            "Name: congestion_surcharge, dtype: float64\n",
            "La mediana de congestion_surcharge es: 2.5\n",
            "\n",
            "\n",
            "count    8.667729e+06\n",
            "mean     1.651691e-01\n",
            "std      5.320010e-01\n",
            "min     -1.750000e+00\n",
            "25%      0.000000e+00\n",
            "50%      0.000000e+00\n",
            "75%      0.000000e+00\n",
            "max      1.750000e+00\n",
            "Name: Airport_fee, dtype: float64\n",
            "La mediana de Airport_fee es: 0.0\n",
            "\n",
            "\n"
          ]
        }
      ]
    }
  ]
}